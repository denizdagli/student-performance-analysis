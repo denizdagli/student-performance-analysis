{
 "cells": [
  {
   "cell_type": "markdown",
   "id": "85383415",
   "metadata": {
    "papermill": {
     "duration": 0.012915,
     "end_time": "2024-10-07T20:32:40.491347",
     "exception": false,
     "start_time": "2024-10-07T20:32:40.478432",
     "status": "completed"
    },
    "tags": []
   },
   "source": [
    "*The aim of the project is to analyze the data of unsuccessful students*"
   ]
  },
  {
   "cell_type": "code",
   "execution_count": 1,
   "id": "f8be18e2",
   "metadata": {
    "execution": {
     "iopub.execute_input": "2024-10-07T20:32:40.518082Z",
     "iopub.status.busy": "2024-10-07T20:32:40.517500Z",
     "iopub.status.idle": "2024-10-07T20:32:43.741764Z",
     "shell.execute_reply": "2024-10-07T20:32:43.740472Z"
    },
    "papermill": {
     "duration": 3.240863,
     "end_time": "2024-10-07T20:32:43.744649",
     "exception": false,
     "start_time": "2024-10-07T20:32:40.503786",
     "status": "completed"
    },
    "tags": []
   },
   "outputs": [],
   "source": [
    "import numpy as np\n",
    "import pandas as pd\n",
    "import seaborn as sns\n",
    "import matplotlib.pyplot as plt\n",
    "from sklearn.preprocessing import LabelEncoder"
   ]
  },
  {
   "cell_type": "markdown",
   "id": "49f63c84",
   "metadata": {
    "papermill": {
     "duration": 0.012357,
     "end_time": "2024-10-07T20:32:43.771240",
     "exception": false,
     "start_time": "2024-10-07T20:32:43.758883",
     "status": "completed"
    },
    "tags": []
   },
   "source": [
    "# Load the dataset"
   ]
  },
  {
   "cell_type": "code",
   "execution_count": 2,
   "id": "4536f308",
   "metadata": {
    "execution": {
     "iopub.execute_input": "2024-10-07T20:32:43.798331Z",
     "iopub.status.busy": "2024-10-07T20:32:43.797310Z",
     "iopub.status.idle": "2024-10-07T20:32:43.848984Z",
     "shell.execute_reply": "2024-10-07T20:32:43.847606Z"
    },
    "papermill": {
     "duration": 0.068524,
     "end_time": "2024-10-07T20:32:43.852118",
     "exception": false,
     "start_time": "2024-10-07T20:32:43.783594",
     "status": "completed"
    },
    "tags": []
   },
   "outputs": [
    {
     "data": {
      "text/html": [
       "<div>\n",
       "<style scoped>\n",
       "    .dataframe tbody tr th:only-of-type {\n",
       "        vertical-align: middle;\n",
       "    }\n",
       "\n",
       "    .dataframe tbody tr th {\n",
       "        vertical-align: top;\n",
       "    }\n",
       "\n",
       "    .dataframe thead th {\n",
       "        text-align: right;\n",
       "    }\n",
       "</style>\n",
       "<table border=\"1\" class=\"dataframe\">\n",
       "  <thead>\n",
       "    <tr style=\"text-align: right;\">\n",
       "      <th></th>\n",
       "      <th>gender</th>\n",
       "      <th>race/ethnicity</th>\n",
       "      <th>parental level of education</th>\n",
       "      <th>lunch</th>\n",
       "      <th>test preparation course</th>\n",
       "      <th>math score</th>\n",
       "      <th>reading score</th>\n",
       "      <th>writing score</th>\n",
       "    </tr>\n",
       "  </thead>\n",
       "  <tbody>\n",
       "    <tr>\n",
       "      <th>0</th>\n",
       "      <td>female</td>\n",
       "      <td>group B</td>\n",
       "      <td>bachelor's degree</td>\n",
       "      <td>standard</td>\n",
       "      <td>none</td>\n",
       "      <td>72</td>\n",
       "      <td>72</td>\n",
       "      <td>74</td>\n",
       "    </tr>\n",
       "    <tr>\n",
       "      <th>1</th>\n",
       "      <td>female</td>\n",
       "      <td>group C</td>\n",
       "      <td>some college</td>\n",
       "      <td>standard</td>\n",
       "      <td>completed</td>\n",
       "      <td>69</td>\n",
       "      <td>90</td>\n",
       "      <td>88</td>\n",
       "    </tr>\n",
       "    <tr>\n",
       "      <th>2</th>\n",
       "      <td>female</td>\n",
       "      <td>group B</td>\n",
       "      <td>master's degree</td>\n",
       "      <td>standard</td>\n",
       "      <td>none</td>\n",
       "      <td>90</td>\n",
       "      <td>95</td>\n",
       "      <td>93</td>\n",
       "    </tr>\n",
       "    <tr>\n",
       "      <th>3</th>\n",
       "      <td>male</td>\n",
       "      <td>group A</td>\n",
       "      <td>associate's degree</td>\n",
       "      <td>free/reduced</td>\n",
       "      <td>none</td>\n",
       "      <td>47</td>\n",
       "      <td>57</td>\n",
       "      <td>44</td>\n",
       "    </tr>\n",
       "    <tr>\n",
       "      <th>4</th>\n",
       "      <td>male</td>\n",
       "      <td>group C</td>\n",
       "      <td>some college</td>\n",
       "      <td>standard</td>\n",
       "      <td>none</td>\n",
       "      <td>76</td>\n",
       "      <td>78</td>\n",
       "      <td>75</td>\n",
       "    </tr>\n",
       "  </tbody>\n",
       "</table>\n",
       "</div>"
      ],
      "text/plain": [
       "   gender race/ethnicity parental level of education         lunch  \\\n",
       "0  female        group B           bachelor's degree      standard   \n",
       "1  female        group C                some college      standard   \n",
       "2  female        group B             master's degree      standard   \n",
       "3    male        group A          associate's degree  free/reduced   \n",
       "4    male        group C                some college      standard   \n",
       "\n",
       "  test preparation course  math score  reading score  writing score  \n",
       "0                    none          72             72             74  \n",
       "1               completed          69             90             88  \n",
       "2                    none          90             95             93  \n",
       "3                    none          47             57             44  \n",
       "4                    none          76             78             75  "
      ]
     },
     "execution_count": 2,
     "metadata": {},
     "output_type": "execute_result"
    }
   ],
   "source": [
    "df=pd.read_csv('/Users/denizdagli/Downloads/StudentsPerformance.csv')\n",
    "df.head()"
   ]
  },
  {
   "cell_type": "markdown",
   "id": "01590c89",
   "metadata": {
    "papermill": {
     "duration": 0.012282,
     "end_time": "2024-10-07T20:32:43.878731",
     "exception": false,
     "start_time": "2024-10-07T20:32:43.866449",
     "status": "completed"
    },
    "tags": []
   },
   "source": [
    "# Show the shape, info, and descriptive statistics of the dataset"
   ]
  },
  {
   "cell_type": "code",
   "execution_count": 3,
   "id": "c7779efe",
   "metadata": {
    "execution": {
     "iopub.execute_input": "2024-10-07T20:32:43.905698Z",
     "iopub.status.busy": "2024-10-07T20:32:43.905233Z",
     "iopub.status.idle": "2024-10-07T20:32:43.913366Z",
     "shell.execute_reply": "2024-10-07T20:32:43.912181Z"
    },
    "papermill": {
     "duration": 0.024873,
     "end_time": "2024-10-07T20:32:43.916075",
     "exception": false,
     "start_time": "2024-10-07T20:32:43.891202",
     "status": "completed"
    },
    "tags": []
   },
   "outputs": [
    {
     "data": {
      "text/plain": [
       "(1000, 8)"
      ]
     },
     "execution_count": 3,
     "metadata": {},
     "output_type": "execute_result"
    }
   ],
   "source": [
    "df.shape"
   ]
  },
  {
   "cell_type": "code",
   "execution_count": 4,
   "id": "d708bb6a",
   "metadata": {
    "execution": {
     "iopub.execute_input": "2024-10-07T20:32:43.943744Z",
     "iopub.status.busy": "2024-10-07T20:32:43.943194Z",
     "iopub.status.idle": "2024-10-07T20:32:43.974882Z",
     "shell.execute_reply": "2024-10-07T20:32:43.973727Z"
    },
    "papermill": {
     "duration": 0.048865,
     "end_time": "2024-10-07T20:32:43.977784",
     "exception": false,
     "start_time": "2024-10-07T20:32:43.928919",
     "status": "completed"
    },
    "tags": []
   },
   "outputs": [
    {
     "name": "stdout",
     "output_type": "stream",
     "text": [
      "<class 'pandas.core.frame.DataFrame'>\n",
      "RangeIndex: 1000 entries, 0 to 999\n",
      "Data columns (total 8 columns):\n",
      " #   Column                       Non-Null Count  Dtype \n",
      "---  ------                       --------------  ----- \n",
      " 0   gender                       1000 non-null   object\n",
      " 1   race/ethnicity               1000 non-null   object\n",
      " 2   parental level of education  1000 non-null   object\n",
      " 3   lunch                        1000 non-null   object\n",
      " 4   test preparation course      1000 non-null   object\n",
      " 5   math score                   1000 non-null   int64 \n",
      " 6   reading score                1000 non-null   int64 \n",
      " 7   writing score                1000 non-null   int64 \n",
      "dtypes: int64(3), object(5)\n",
      "memory usage: 62.6+ KB\n"
     ]
    }
   ],
   "source": [
    "df.info()"
   ]
  },
  {
   "cell_type": "code",
   "execution_count": 5,
   "id": "253fb42d",
   "metadata": {
    "execution": {
     "iopub.execute_input": "2024-10-07T20:32:44.005489Z",
     "iopub.status.busy": "2024-10-07T20:32:44.005002Z",
     "iopub.status.idle": "2024-10-07T20:32:44.033120Z",
     "shell.execute_reply": "2024-10-07T20:32:44.031603Z"
    },
    "papermill": {
     "duration": 0.04514,
     "end_time": "2024-10-07T20:32:44.035946",
     "exception": false,
     "start_time": "2024-10-07T20:32:43.990806",
     "status": "completed"
    },
    "tags": []
   },
   "outputs": [
    {
     "data": {
      "text/html": [
       "<div>\n",
       "<style scoped>\n",
       "    .dataframe tbody tr th:only-of-type {\n",
       "        vertical-align: middle;\n",
       "    }\n",
       "\n",
       "    .dataframe tbody tr th {\n",
       "        vertical-align: top;\n",
       "    }\n",
       "\n",
       "    .dataframe thead th {\n",
       "        text-align: right;\n",
       "    }\n",
       "</style>\n",
       "<table border=\"1\" class=\"dataframe\">\n",
       "  <thead>\n",
       "    <tr style=\"text-align: right;\">\n",
       "      <th></th>\n",
       "      <th>math score</th>\n",
       "      <th>reading score</th>\n",
       "      <th>writing score</th>\n",
       "    </tr>\n",
       "  </thead>\n",
       "  <tbody>\n",
       "    <tr>\n",
       "      <th>count</th>\n",
       "      <td>1000.00000</td>\n",
       "      <td>1000.000000</td>\n",
       "      <td>1000.000000</td>\n",
       "    </tr>\n",
       "    <tr>\n",
       "      <th>mean</th>\n",
       "      <td>66.08900</td>\n",
       "      <td>69.169000</td>\n",
       "      <td>68.054000</td>\n",
       "    </tr>\n",
       "    <tr>\n",
       "      <th>std</th>\n",
       "      <td>15.16308</td>\n",
       "      <td>14.600192</td>\n",
       "      <td>15.195657</td>\n",
       "    </tr>\n",
       "    <tr>\n",
       "      <th>min</th>\n",
       "      <td>0.00000</td>\n",
       "      <td>17.000000</td>\n",
       "      <td>10.000000</td>\n",
       "    </tr>\n",
       "    <tr>\n",
       "      <th>25%</th>\n",
       "      <td>57.00000</td>\n",
       "      <td>59.000000</td>\n",
       "      <td>57.750000</td>\n",
       "    </tr>\n",
       "    <tr>\n",
       "      <th>50%</th>\n",
       "      <td>66.00000</td>\n",
       "      <td>70.000000</td>\n",
       "      <td>69.000000</td>\n",
       "    </tr>\n",
       "    <tr>\n",
       "      <th>75%</th>\n",
       "      <td>77.00000</td>\n",
       "      <td>79.000000</td>\n",
       "      <td>79.000000</td>\n",
       "    </tr>\n",
       "    <tr>\n",
       "      <th>max</th>\n",
       "      <td>100.00000</td>\n",
       "      <td>100.000000</td>\n",
       "      <td>100.000000</td>\n",
       "    </tr>\n",
       "  </tbody>\n",
       "</table>\n",
       "</div>"
      ],
      "text/plain": [
       "       math score  reading score  writing score\n",
       "count  1000.00000    1000.000000    1000.000000\n",
       "mean     66.08900      69.169000      68.054000\n",
       "std      15.16308      14.600192      15.195657\n",
       "min       0.00000      17.000000      10.000000\n",
       "25%      57.00000      59.000000      57.750000\n",
       "50%      66.00000      70.000000      69.000000\n",
       "75%      77.00000      79.000000      79.000000\n",
       "max     100.00000     100.000000     100.000000"
      ]
     },
     "execution_count": 5,
     "metadata": {},
     "output_type": "execute_result"
    }
   ],
   "source": [
    "df.describe()"
   ]
  },
  {
   "cell_type": "markdown",
   "id": "14658373",
   "metadata": {
    "papermill": {
     "duration": 0.012817,
     "end_time": "2024-10-07T20:32:44.062021",
     "exception": false,
     "start_time": "2024-10-07T20:32:44.049204",
     "status": "completed"
    },
    "tags": []
   },
   "source": [
    "# Analyze unique values in the first five columns"
   ]
  },
  {
   "cell_type": "code",
   "execution_count": 6,
   "id": "ccc4873e",
   "metadata": {
    "execution": {
     "iopub.execute_input": "2024-10-07T20:32:44.091004Z",
     "iopub.status.busy": "2024-10-07T20:32:44.090553Z",
     "iopub.status.idle": "2024-10-07T20:32:44.099311Z",
     "shell.execute_reply": "2024-10-07T20:32:44.098046Z"
    },
    "papermill": {
     "duration": 0.026823,
     "end_time": "2024-10-07T20:32:44.102151",
     "exception": false,
     "start_time": "2024-10-07T20:32:44.075328",
     "status": "completed"
    },
    "tags": []
   },
   "outputs": [
    {
     "name": "stdout",
     "output_type": "stream",
     "text": [
      "'gender' sütunundaki benzersiz değer sayısı: 2\n",
      "Benzersiz değerler: ['female' 'male']\n",
      "\n",
      "'race/ethnicity' sütunundaki benzersiz değer sayısı: 5\n",
      "Benzersiz değerler: ['group B' 'group C' 'group A' 'group D' 'group E']\n",
      "\n",
      "'parental level of education' sütunundaki benzersiz değer sayısı: 6\n",
      "Benzersiz değerler: [\"bachelor's degree\" 'some college' \"master's degree\" \"associate's degree\"\n",
      " 'high school' 'some high school']\n",
      "\n",
      "'lunch' sütunundaki benzersiz değer sayısı: 2\n",
      "Benzersiz değerler: ['standard' 'free/reduced']\n",
      "\n",
      "'test preparation course' sütunundaki benzersiz değer sayısı: 2\n",
      "Benzersiz değerler: ['none' 'completed']\n",
      "\n"
     ]
    }
   ],
   "source": [
    "for column in df.columns[:5]:\n",
    "    unique_values = df[column].unique()\n",
    "    unique_count = len(unique_values)\n",
    "    print(f\"'{column}' sütunundaki benzersiz değer sayısı: {unique_count}\")\n",
    "    print(f\"Benzersiz değerler: {unique_values}\\n\")"
   ]
  },
  {
   "cell_type": "markdown",
   "id": "0c7683d5",
   "metadata": {
    "papermill": {
     "duration": 0.012844,
     "end_time": "2024-10-07T20:32:44.128569",
     "exception": false,
     "start_time": "2024-10-07T20:32:44.115725",
     "status": "completed"
    },
    "tags": []
   },
   "source": [
    "* Bachelor's Degree (Lisans Diploması): 4 yıllık üniversite eğitimi tamamlamış ebeveynler.\n",
    "* Some College (Biraz Üniversite): Üniversiteye kaydolmuş ancak mezun olmamış ebeveynler.\n",
    "* Master's Degree (Yüksek Lisans Diploması): Lisans diplomasına ek olarak daha ileri bir eğitim almış ebeveynler.\n",
    "* Associate's Degree (Önlisans Diploması): 2 yıllık yüksekokul programını tamamlayan ebeveynler.\n",
    "* High School (Lise): Lise diplomasını almış ebeveynler.\n",
    "* Some High School (Biraz Lise): Liseye gitmiş ancak mezun olamamış ebeveynler.\n"
   ]
  },
  {
   "cell_type": "markdown",
   "id": "c87dd395",
   "metadata": {
    "papermill": {
     "duration": 0.013806,
     "end_time": "2024-10-07T20:32:44.155743",
     "exception": false,
     "start_time": "2024-10-07T20:32:44.141937",
     "status": "completed"
    },
    "tags": []
   },
   "source": [
    "# Visualize Gender Distribution\n"
   ]
  },
  {
   "cell_type": "code",
   "execution_count": 7,
   "id": "1b0b0494",
   "metadata": {
    "execution": {
     "iopub.execute_input": "2024-10-07T20:32:44.185337Z",
     "iopub.status.busy": "2024-10-07T20:32:44.184860Z",
     "iopub.status.idle": "2024-10-07T20:32:44.435822Z",
     "shell.execute_reply": "2024-10-07T20:32:44.434571Z"
    },
    "papermill": {
     "duration": 0.269273,
     "end_time": "2024-10-07T20:32:44.438829",
     "exception": false,
     "start_time": "2024-10-07T20:32:44.169556",
     "status": "completed"
    },
    "tags": []
   },
   "outputs": [
    {
     "data": {
      "image/png": "[encoded data removed]",
      "text/plain": [
       "<Figure size 800x800 with 1 Axes>"
      ]
     },
     "metadata": {},
     "output_type": "display_data"
    }
   ],
   "source": [
    "import matplotlib.pyplot as plt\n",
    "\n",
    "gender_counts = df['gender'].value_counts()\n",
    "\n",
    "plt.figure(figsize=(8, 8))\n",
    "plt.pie(gender_counts, labels=gender_counts.index, autopct='%1.1f%%', colors=['#ff9999','#66b3ff'])\n",
    "plt.title('Kız ve Erkek Öğrenci Oranları')\n",
    "plt.axis('equal')  \n",
    "plt.show()\n"
   ]
  },
  {
   "cell_type": "markdown",
   "id": "d8321655",
   "metadata": {
    "papermill": {
     "duration": 0.013487,
     "end_time": "2024-10-07T20:32:44.466196",
     "exception": false,
     "start_time": "2024-10-07T20:32:44.452709",
     "status": "completed"
    },
    "tags": []
   },
   "source": [
    "# Visualize Score Distributions with Histogram"
   ]
  },
  {
   "cell_type": "code",
   "execution_count": 8,
   "id": "9bb3d727",
   "metadata": {
    "execution": {
     "iopub.execute_input": "2024-10-07T20:32:44.496003Z",
     "iopub.status.busy": "2024-10-07T20:32:44.495555Z",
     "iopub.status.idle": "2024-10-07T20:32:44.912121Z",
     "shell.execute_reply": "2024-10-07T20:32:44.910797Z"
    },
    "papermill": {
     "duration": 0.434858,
     "end_time": "2024-10-07T20:32:44.914822",
     "exception": false,
     "start_time": "2024-10-07T20:32:44.479964",
     "status": "completed"
    },
    "tags": []
   },
   "outputs": [
    {
     "data": {
      "image/png": "[encoded data removed]",
      "text/plain": [
       "<Figure size 1200x600 with 1 Axes>"
      ]
     },
     "metadata": {},
     "output_type": "display_data"
    }
   ],
   "source": [
    "# Histogram\n",
    "plt.figure(figsize=(12, 6))\n",
    "plt.hist(df['math score'], bins=10, alpha=0.5, label='Math Score')\n",
    "plt.hist(df['reading score'], bins=10, alpha=0.5, label='Reading Score')\n",
    "plt.hist(df['writing score'], bins=10, alpha=0.5, label='Writing Score')\n",
    "plt.xlabel('Scores')\n",
    "plt.ylabel('Frequency')\n",
    "plt.title('Distribution of Scores')\n",
    "plt.legend()\n",
    "plt.show()"
   ]
  },
  {
   "cell_type": "markdown",
   "id": "f378e898",
   "metadata": {
    "papermill": {
     "duration": 0.015669,
     "end_time": "2024-10-07T20:32:44.945162",
     "exception": false,
     "start_time": "2024-10-07T20:32:44.929493",
     "status": "completed"
    },
    "tags": []
   },
   "source": [
    "# Violin Plot for Scores"
   ]
  },
  {
   "cell_type": "code",
   "execution_count": 9,
   "id": "9967b8e6",
   "metadata": {
    "execution": {
     "iopub.execute_input": "2024-10-07T20:32:44.976017Z",
     "iopub.status.busy": "2024-10-07T20:32:44.975582Z",
     "iopub.status.idle": "2024-10-07T20:32:45.400787Z",
     "shell.execute_reply": "2024-10-07T20:32:45.399157Z"
    },
    "papermill": {
     "duration": 0.445894,
     "end_time": "2024-10-07T20:32:45.405373",
     "exception": false,
     "start_time": "2024-10-07T20:32:44.959479",
     "status": "completed"
    },
    "tags": []
   },
   "outputs": [
    {
     "data": {
      "image/png": "[encoded data removed]",
      "text/plain": [
       "<Figure size 1000x600 with 1 Axes>"
      ]
     },
     "metadata": {},
     "output_type": "display_data"
    }
   ],
   "source": [
    "# Violin Plot\n",
    "plt.figure(figsize=(10, 6))\n",
    "sns.violinplot(data=df[['math score', 'reading score', 'writing score']])\n",
    "plt.title('Violin Plot of Scores')\n",
    "plt.ylabel('Scores')\n",
    "plt.show()\n"
   ]
  },
  {
   "cell_type": "markdown",
   "id": "e8136779",
   "metadata": {
    "papermill": {
     "duration": 0.022722,
     "end_time": "2024-10-07T20:32:45.447200",
     "exception": false,
     "start_time": "2024-10-07T20:32:45.424478",
     "status": "completed"
    },
    "tags": []
   },
   "source": [
    "# Box Plot for Scores"
   ]
  },
  {
   "cell_type": "code",
   "execution_count": 10,
   "id": "0e5bc71c",
   "metadata": {
    "execution": {
     "iopub.execute_input": "2024-10-07T20:32:45.483129Z",
     "iopub.status.busy": "2024-10-07T20:32:45.482694Z",
     "iopub.status.idle": "2024-10-07T20:32:45.776041Z",
     "shell.execute_reply": "2024-10-07T20:32:45.774624Z"
    },
    "papermill": {
     "duration": 0.313424,
     "end_time": "2024-10-07T20:32:45.778782",
     "exception": false,
     "start_time": "2024-10-07T20:32:45.465358",
     "status": "completed"
    },
    "tags": []
   },
   "outputs": [
    {
     "data": {
      "image/png": "[encoded data removed]",
      "text/plain": [
       "<Figure size 640x480 with 1 Axes>"
      ]
     },
     "metadata": {},
     "output_type": "display_data"
    }
   ],
   "source": [
    "sns.boxplot(data=df[['math score',\t'reading score',\t'writing score']])\n",
    "plt.title('Matematik, Okuma ve Yazma Skorları Kutu Grafiği')\n",
    "plt.show()\n",
    "\n"
   ]
  },
  {
   "cell_type": "markdown",
   "id": "3b38e67c",
   "metadata": {
    "papermill": {
     "duration": 0.01542,
     "end_time": "2024-10-07T20:32:45.810163",
     "exception": false,
     "start_time": "2024-10-07T20:32:45.794743",
     "status": "completed"
    },
    "tags": []
   },
   "source": [
    "# Find Outliers"
   ]
  },
  {
   "cell_type": "code",
   "execution_count": 11,
   "id": "8e092284",
   "metadata": {
    "execution": {
     "iopub.execute_input": "2024-10-07T20:32:45.844780Z",
     "iopub.status.busy": "2024-10-07T20:32:45.844283Z",
     "iopub.status.idle": "2024-10-07T20:32:45.866318Z",
     "shell.execute_reply": "2024-10-07T20:32:45.864688Z"
    },
    "papermill": {
     "duration": 0.043084,
     "end_time": "2024-10-07T20:32:45.869232",
     "exception": false,
     "start_time": "2024-10-07T20:32:45.826148",
     "status": "completed"
    },
    "tags": []
   },
   "outputs": [
    {
     "name": "stdout",
     "output_type": "stream",
     "text": [
      "Indices of outliers in Math score: [17, 59, 145, 338, 466, 787, 842, 980]\n",
      "Indices of outliers in Reading score: [59, 76, 211, 327, 596, 980]\n",
      "Indices of outliers in Writing score: [59, 76, 327, 596, 980]\n"
     ]
    }
   ],
   "source": [
    "# Function to find outliers using IQR (Interquartile Range)\n",
    "def find_outliers(df, column):\n",
    "    Q1 = df[column].quantile(0.25)\n",
    "    Q3 = df[column].quantile(0.75)\n",
    "    IQR = Q3 - Q1\n",
    "    lower_bound = Q1 - 1.5 * IQR\n",
    "    upper_bound = Q3 + 1.5 * IQR\n",
    "    \n",
    "    # Find indices of outliers\n",
    "    outliers = df[(df[column] < lower_bound) | (df[column] > upper_bound)].index\n",
    "    return outliers\n",
    "\n",
    "# Find outliers for each score column\n",
    "math_outliers = find_outliers(df, 'math score')\n",
    "reading_outliers = find_outliers(df, 'reading score')\n",
    "writing_outliers = find_outliers(df, 'writing score')\n",
    "\n",
    "# Print results\n",
    "print(\"Indices of outliers in Math score:\", math_outliers.tolist())\n",
    "print(\"Indices of outliers in Reading score:\", reading_outliers.tolist())\n",
    "print(\"Indices of outliers in Writing score:\", writing_outliers.tolist())\n"
   ]
  },
  {
   "cell_type": "code",
   "execution_count": 12,
   "id": "c3baac1c",
   "metadata": {
    "execution": {
     "iopub.execute_input": "2024-10-07T20:32:45.903079Z",
     "iopub.status.busy": "2024-10-07T20:32:45.902636Z",
     "iopub.status.idle": "2024-10-07T20:32:45.912465Z",
     "shell.execute_reply": "2024-10-07T20:32:45.911229Z"
    },
    "papermill": {
     "duration": 0.029928,
     "end_time": "2024-10-07T20:32:45.915147",
     "exception": false,
     "start_time": "2024-10-07T20:32:45.885219",
     "status": "completed"
    },
    "tags": []
   },
   "outputs": [
    {
     "data": {
      "text/plain": [
       "gender                               female\n",
       "race/ethnicity                      group B\n",
       "parental level of education     high school\n",
       "lunch                          free/reduced\n",
       "test preparation course                none\n",
       "math score                                8\n",
       "reading score                            24\n",
       "writing score                            23\n",
       "Name: 980, dtype: object"
      ]
     },
     "execution_count": 12,
     "metadata": {},
     "output_type": "execute_result"
    }
   ],
   "source": [
    "df.iloc[980]"
   ]
  },
  {
   "cell_type": "markdown",
   "id": "6948a932",
   "metadata": {
    "papermill": {
     "duration": 0.015671,
     "end_time": "2024-10-07T20:32:45.946877",
     "exception": false,
     "start_time": "2024-10-07T20:32:45.931206",
     "status": "completed"
    },
    "tags": []
   },
   "source": [
    "# Analyze the demographic characteristics of outliers"
   ]
  },
  {
   "cell_type": "code",
   "execution_count": 13,
   "id": "825d3735",
   "metadata": {
    "execution": {
     "iopub.execute_input": "2024-10-07T20:32:45.980626Z",
     "iopub.status.busy": "2024-10-07T20:32:45.980077Z",
     "iopub.status.idle": "2024-10-07T20:32:46.004287Z",
     "shell.execute_reply": "2024-10-07T20:32:46.003177Z"
    },
    "papermill": {
     "duration": 0.043835,
     "end_time": "2024-10-07T20:32:46.006686",
     "exception": false,
     "start_time": "2024-10-07T20:32:45.962851",
     "status": "completed"
    },
    "tags": []
   },
   "outputs": [
    {
     "name": "stdout",
     "output_type": "stream",
     "text": [
      "Math Score Outlier Analysis:\n"
     ]
    },
    {
     "data": {
      "text/html": [
       "<div>\n",
       "<style scoped>\n",
       "    .dataframe tbody tr th:only-of-type {\n",
       "        vertical-align: middle;\n",
       "    }\n",
       "\n",
       "    .dataframe tbody tr th {\n",
       "        vertical-align: top;\n",
       "    }\n",
       "\n",
       "    .dataframe thead th {\n",
       "        text-align: right;\n",
       "    }\n",
       "</style>\n",
       "<table border=\"1\" class=\"dataframe\">\n",
       "  <thead>\n",
       "    <tr style=\"text-align: right;\">\n",
       "      <th></th>\n",
       "      <th>gender</th>\n",
       "      <th>race/ethnicity</th>\n",
       "      <th>parental level of education</th>\n",
       "      <th>lunch</th>\n",
       "      <th>math score</th>\n",
       "    </tr>\n",
       "  </thead>\n",
       "  <tbody>\n",
       "    <tr>\n",
       "      <th>17</th>\n",
       "      <td>female</td>\n",
       "      <td>group B</td>\n",
       "      <td>some high school</td>\n",
       "      <td>free/reduced</td>\n",
       "      <td>18</td>\n",
       "    </tr>\n",
       "    <tr>\n",
       "      <th>59</th>\n",
       "      <td>female</td>\n",
       "      <td>group C</td>\n",
       "      <td>some high school</td>\n",
       "      <td>free/reduced</td>\n",
       "      <td>0</td>\n",
       "    </tr>\n",
       "    <tr>\n",
       "      <th>145</th>\n",
       "      <td>female</td>\n",
       "      <td>group C</td>\n",
       "      <td>some college</td>\n",
       "      <td>free/reduced</td>\n",
       "      <td>22</td>\n",
       "    </tr>\n",
       "    <tr>\n",
       "      <th>338</th>\n",
       "      <td>female</td>\n",
       "      <td>group B</td>\n",
       "      <td>some high school</td>\n",
       "      <td>free/reduced</td>\n",
       "      <td>24</td>\n",
       "    </tr>\n",
       "    <tr>\n",
       "      <th>466</th>\n",
       "      <td>female</td>\n",
       "      <td>group D</td>\n",
       "      <td>associate's degree</td>\n",
       "      <td>free/reduced</td>\n",
       "      <td>26</td>\n",
       "    </tr>\n",
       "    <tr>\n",
       "      <th>787</th>\n",
       "      <td>female</td>\n",
       "      <td>group B</td>\n",
       "      <td>some college</td>\n",
       "      <td>standard</td>\n",
       "      <td>19</td>\n",
       "    </tr>\n",
       "    <tr>\n",
       "      <th>842</th>\n",
       "      <td>female</td>\n",
       "      <td>group B</td>\n",
       "      <td>high school</td>\n",
       "      <td>free/reduced</td>\n",
       "      <td>23</td>\n",
       "    </tr>\n",
       "    <tr>\n",
       "      <th>980</th>\n",
       "      <td>female</td>\n",
       "      <td>group B</td>\n",
       "      <td>high school</td>\n",
       "      <td>free/reduced</td>\n",
       "      <td>8</td>\n",
       "    </tr>\n",
       "  </tbody>\n",
       "</table>\n",
       "</div>"
      ],
      "text/plain": [
       "     gender race/ethnicity parental level of education         lunch  \\\n",
       "17   female        group B            some high school  free/reduced   \n",
       "59   female        group C            some high school  free/reduced   \n",
       "145  female        group C                some college  free/reduced   \n",
       "338  female        group B            some high school  free/reduced   \n",
       "466  female        group D          associate's degree  free/reduced   \n",
       "787  female        group B                some college      standard   \n",
       "842  female        group B                 high school  free/reduced   \n",
       "980  female        group B                 high school  free/reduced   \n",
       "\n",
       "     math score  \n",
       "17           18  \n",
       "59            0  \n",
       "145          22  \n",
       "338          24  \n",
       "466          26  \n",
       "787          19  \n",
       "842          23  \n",
       "980           8  "
      ]
     },
     "execution_count": 13,
     "metadata": {},
     "output_type": "execute_result"
    }
   ],
   "source": [
    "def analyze_outliers(df, outliers, column):\n",
    "    # Select rows with outliers\n",
    "    outlier_data = df.loc[outliers]\n",
    "    \n",
    "    # Analyze demographic characteristics of outliers\n",
    "    demographic_analysis = outlier_data[['gender', 'race/ethnicity', 'parental level of education', 'lunch', column]].copy()\n",
    "    \n",
    "    return demographic_analysis\n",
    "\n",
    "# Analyze outliers for Math, Reading, and Writing scores\n",
    "math_outlier_analysis = analyze_outliers(df, math_outliers, 'math score')\n",
    "reading_outlier_analysis = analyze_outliers(df, reading_outliers, 'reading score')\n",
    "writing_outlier_analysis = analyze_outliers(df, writing_outliers, 'writing score')\n",
    "\n",
    "print(\"Math Score Outlier Analysis:\")\n",
    "math_outlier_analysis"
   ]
  },
  {
   "cell_type": "code",
   "execution_count": 14,
   "id": "97275a70",
   "metadata": {
    "execution": {
     "iopub.execute_input": "2024-10-07T20:32:46.041786Z",
     "iopub.status.busy": "2024-10-07T20:32:46.041324Z",
     "iopub.status.idle": "2024-10-07T20:32:46.056087Z",
     "shell.execute_reply": "2024-10-07T20:32:46.054720Z"
    },
    "papermill": {
     "duration": 0.035961,
     "end_time": "2024-10-07T20:32:46.059083",
     "exception": false,
     "start_time": "2024-10-07T20:32:46.023122",
     "status": "completed"
    },
    "tags": []
   },
   "outputs": [
    {
     "name": "stdout",
     "output_type": "stream",
     "text": [
      "\n",
      "Reading Score Outlier Analysis:\n"
     ]
    },
    {
     "data": {
      "text/html": [
       "<div>\n",
       "<style scoped>\n",
       "    .dataframe tbody tr th:only-of-type {\n",
       "        vertical-align: middle;\n",
       "    }\n",
       "\n",
       "    .dataframe tbody tr th {\n",
       "        vertical-align: top;\n",
       "    }\n",
       "\n",
       "    .dataframe thead th {\n",
       "        text-align: right;\n",
       "    }\n",
       "</style>\n",
       "<table border=\"1\" class=\"dataframe\">\n",
       "  <thead>\n",
       "    <tr style=\"text-align: right;\">\n",
       "      <th></th>\n",
       "      <th>gender</th>\n",
       "      <th>race/ethnicity</th>\n",
       "      <th>parental level of education</th>\n",
       "      <th>lunch</th>\n",
       "      <th>reading score</th>\n",
       "    </tr>\n",
       "  </thead>\n",
       "  <tbody>\n",
       "    <tr>\n",
       "      <th>59</th>\n",
       "      <td>female</td>\n",
       "      <td>group C</td>\n",
       "      <td>some high school</td>\n",
       "      <td>free/reduced</td>\n",
       "      <td>17</td>\n",
       "    </tr>\n",
       "    <tr>\n",
       "      <th>76</th>\n",
       "      <td>male</td>\n",
       "      <td>group E</td>\n",
       "      <td>some high school</td>\n",
       "      <td>standard</td>\n",
       "      <td>26</td>\n",
       "    </tr>\n",
       "    <tr>\n",
       "      <th>211</th>\n",
       "      <td>male</td>\n",
       "      <td>group C</td>\n",
       "      <td>some college</td>\n",
       "      <td>free/reduced</td>\n",
       "      <td>28</td>\n",
       "    </tr>\n",
       "    <tr>\n",
       "      <th>327</th>\n",
       "      <td>male</td>\n",
       "      <td>group A</td>\n",
       "      <td>some college</td>\n",
       "      <td>free/reduced</td>\n",
       "      <td>23</td>\n",
       "    </tr>\n",
       "    <tr>\n",
       "      <th>596</th>\n",
       "      <td>male</td>\n",
       "      <td>group B</td>\n",
       "      <td>high school</td>\n",
       "      <td>free/reduced</td>\n",
       "      <td>24</td>\n",
       "    </tr>\n",
       "    <tr>\n",
       "      <th>980</th>\n",
       "      <td>female</td>\n",
       "      <td>group B</td>\n",
       "      <td>high school</td>\n",
       "      <td>free/reduced</td>\n",
       "      <td>24</td>\n",
       "    </tr>\n",
       "  </tbody>\n",
       "</table>\n",
       "</div>"
      ],
      "text/plain": [
       "     gender race/ethnicity parental level of education         lunch  \\\n",
       "59   female        group C            some high school  free/reduced   \n",
       "76     male        group E            some high school      standard   \n",
       "211    male        group C                some college  free/reduced   \n",
       "327    male        group A                some college  free/reduced   \n",
       "596    male        group B                 high school  free/reduced   \n",
       "980  female        group B                 high school  free/reduced   \n",
       "\n",
       "     reading score  \n",
       "59              17  \n",
       "76              26  \n",
       "211             28  \n",
       "327             23  \n",
       "596             24  \n",
       "980             24  "
      ]
     },
     "execution_count": 14,
     "metadata": {},
     "output_type": "execute_result"
    }
   ],
   "source": [
    "print(\"\\nReading Score Outlier Analysis:\")\n",
    "reading_outlier_analysis\n"
   ]
  },
  {
   "cell_type": "code",
   "execution_count": 15,
   "id": "c41a6985",
   "metadata": {
    "execution": {
     "iopub.execute_input": "2024-10-07T20:32:46.094440Z",
     "iopub.status.busy": "2024-10-07T20:32:46.094004Z",
     "iopub.status.idle": "2024-10-07T20:32:46.109380Z",
     "shell.execute_reply": "2024-10-07T20:32:46.108221Z"
    },
    "papermill": {
     "duration": 0.035971,
     "end_time": "2024-10-07T20:32:46.111896",
     "exception": false,
     "start_time": "2024-10-07T20:32:46.075925",
     "status": "completed"
    },
    "tags": []
   },
   "outputs": [
    {
     "name": "stdout",
     "output_type": "stream",
     "text": [
      "\n",
      "Writing Score Outlier Analysis:\n"
     ]
    },
    {
     "data": {
      "text/html": [
       "<div>\n",
       "<style scoped>\n",
       "    .dataframe tbody tr th:only-of-type {\n",
       "        vertical-align: middle;\n",
       "    }\n",
       "\n",
       "    .dataframe tbody tr th {\n",
       "        vertical-align: top;\n",
       "    }\n",
       "\n",
       "    .dataframe thead th {\n",
       "        text-align: right;\n",
       "    }\n",
       "</style>\n",
       "<table border=\"1\" class=\"dataframe\">\n",
       "  <thead>\n",
       "    <tr style=\"text-align: right;\">\n",
       "      <th></th>\n",
       "      <th>gender</th>\n",
       "      <th>race/ethnicity</th>\n",
       "      <th>parental level of education</th>\n",
       "      <th>lunch</th>\n",
       "      <th>writing score</th>\n",
       "    </tr>\n",
       "  </thead>\n",
       "  <tbody>\n",
       "    <tr>\n",
       "      <th>59</th>\n",
       "      <td>female</td>\n",
       "      <td>group C</td>\n",
       "      <td>some high school</td>\n",
       "      <td>free/reduced</td>\n",
       "      <td>10</td>\n",
       "    </tr>\n",
       "    <tr>\n",
       "      <th>76</th>\n",
       "      <td>male</td>\n",
       "      <td>group E</td>\n",
       "      <td>some high school</td>\n",
       "      <td>standard</td>\n",
       "      <td>22</td>\n",
       "    </tr>\n",
       "    <tr>\n",
       "      <th>327</th>\n",
       "      <td>male</td>\n",
       "      <td>group A</td>\n",
       "      <td>some college</td>\n",
       "      <td>free/reduced</td>\n",
       "      <td>19</td>\n",
       "    </tr>\n",
       "    <tr>\n",
       "      <th>596</th>\n",
       "      <td>male</td>\n",
       "      <td>group B</td>\n",
       "      <td>high school</td>\n",
       "      <td>free/reduced</td>\n",
       "      <td>15</td>\n",
       "    </tr>\n",
       "    <tr>\n",
       "      <th>980</th>\n",
       "      <td>female</td>\n",
       "      <td>group B</td>\n",
       "      <td>high school</td>\n",
       "      <td>free/reduced</td>\n",
       "      <td>23</td>\n",
       "    </tr>\n",
       "  </tbody>\n",
       "</table>\n",
       "</div>"
      ],
      "text/plain": [
       "     gender race/ethnicity parental level of education         lunch  \\\n",
       "59   female        group C            some high school  free/reduced   \n",
       "76     male        group E            some high school      standard   \n",
       "327    male        group A                some college  free/reduced   \n",
       "596    male        group B                 high school  free/reduced   \n",
       "980  female        group B                 high school  free/reduced   \n",
       "\n",
       "     writing score  \n",
       "59              10  \n",
       "76              22  \n",
       "327             19  \n",
       "596             15  \n",
       "980             23  "
      ]
     },
     "execution_count": 15,
     "metadata": {},
     "output_type": "execute_result"
    }
   ],
   "source": [
    "print(\"\\nWriting Score Outlier Analysis:\")\n",
    "writing_outlier_analysis"
   ]
  },
  {
   "cell_type": "markdown",
   "id": "fe87e3eb",
   "metadata": {
    "papermill": {
     "duration": 0.01736,
     "end_time": "2024-10-07T20:32:46.146744",
     "exception": false,
     "start_time": "2024-10-07T20:32:46.129384",
     "status": "completed"
    },
    "tags": []
   },
   "source": [
    "# Create a new column for average scores"
   ]
  },
  {
   "cell_type": "code",
   "execution_count": 16,
   "id": "915a8b97",
   "metadata": {
    "execution": {
     "iopub.execute_input": "2024-10-07T20:32:46.183890Z",
     "iopub.status.busy": "2024-10-07T20:32:46.183387Z",
     "iopub.status.idle": "2024-10-07T20:32:46.192503Z",
     "shell.execute_reply": "2024-10-07T20:32:46.191299Z"
    },
    "papermill": {
     "duration": 0.030281,
     "end_time": "2024-10-07T20:32:46.195140",
     "exception": false,
     "start_time": "2024-10-07T20:32:46.164859",
     "status": "completed"
    },
    "tags": []
   },
   "outputs": [],
   "source": [
    "df['average score'] = df[['math score', 'reading score', 'writing score']].mean(axis=1)"
   ]
  },
  {
   "cell_type": "code",
   "execution_count": 17,
   "id": "10e84cd4",
   "metadata": {
    "execution": {
     "iopub.execute_input": "2024-10-07T20:32:46.234091Z",
     "iopub.status.busy": "2024-10-07T20:32:46.233630Z",
     "iopub.status.idle": "2024-10-07T20:32:46.250685Z",
     "shell.execute_reply": "2024-10-07T20:32:46.249009Z"
    },
    "papermill": {
     "duration": 0.040872,
     "end_time": "2024-10-07T20:32:46.253796",
     "exception": false,
     "start_time": "2024-10-07T20:32:46.212924",
     "status": "completed"
    },
    "tags": []
   },
   "outputs": [
    {
     "data": {
      "text/html": [
       "<div>\n",
       "<style scoped>\n",
       "    .dataframe tbody tr th:only-of-type {\n",
       "        vertical-align: middle;\n",
       "    }\n",
       "\n",
       "    .dataframe tbody tr th {\n",
       "        vertical-align: top;\n",
       "    }\n",
       "\n",
       "    .dataframe thead th {\n",
       "        text-align: right;\n",
       "    }\n",
       "</style>\n",
       "<table border=\"1\" class=\"dataframe\">\n",
       "  <thead>\n",
       "    <tr style=\"text-align: right;\">\n",
       "      <th></th>\n",
       "      <th>gender</th>\n",
       "      <th>race/ethnicity</th>\n",
       "      <th>parental level of education</th>\n",
       "      <th>lunch</th>\n",
       "      <th>test preparation course</th>\n",
       "      <th>math score</th>\n",
       "      <th>reading score</th>\n",
       "      <th>writing score</th>\n",
       "      <th>average score</th>\n",
       "    </tr>\n",
       "  </thead>\n",
       "  <tbody>\n",
       "    <tr>\n",
       "      <th>0</th>\n",
       "      <td>female</td>\n",
       "      <td>group B</td>\n",
       "      <td>bachelor's degree</td>\n",
       "      <td>standard</td>\n",
       "      <td>none</td>\n",
       "      <td>72</td>\n",
       "      <td>72</td>\n",
       "      <td>74</td>\n",
       "      <td>72.666667</td>\n",
       "    </tr>\n",
       "    <tr>\n",
       "      <th>1</th>\n",
       "      <td>female</td>\n",
       "      <td>group C</td>\n",
       "      <td>some college</td>\n",
       "      <td>standard</td>\n",
       "      <td>completed</td>\n",
       "      <td>69</td>\n",
       "      <td>90</td>\n",
       "      <td>88</td>\n",
       "      <td>82.333333</td>\n",
       "    </tr>\n",
       "    <tr>\n",
       "      <th>2</th>\n",
       "      <td>female</td>\n",
       "      <td>group B</td>\n",
       "      <td>master's degree</td>\n",
       "      <td>standard</td>\n",
       "      <td>none</td>\n",
       "      <td>90</td>\n",
       "      <td>95</td>\n",
       "      <td>93</td>\n",
       "      <td>92.666667</td>\n",
       "    </tr>\n",
       "    <tr>\n",
       "      <th>3</th>\n",
       "      <td>male</td>\n",
       "      <td>group A</td>\n",
       "      <td>associate's degree</td>\n",
       "      <td>free/reduced</td>\n",
       "      <td>none</td>\n",
       "      <td>47</td>\n",
       "      <td>57</td>\n",
       "      <td>44</td>\n",
       "      <td>49.333333</td>\n",
       "    </tr>\n",
       "    <tr>\n",
       "      <th>4</th>\n",
       "      <td>male</td>\n",
       "      <td>group C</td>\n",
       "      <td>some college</td>\n",
       "      <td>standard</td>\n",
       "      <td>none</td>\n",
       "      <td>76</td>\n",
       "      <td>78</td>\n",
       "      <td>75</td>\n",
       "      <td>76.333333</td>\n",
       "    </tr>\n",
       "  </tbody>\n",
       "</table>\n",
       "</div>"
      ],
      "text/plain": [
       "   gender race/ethnicity parental level of education         lunch  \\\n",
       "0  female        group B           bachelor's degree      standard   \n",
       "1  female        group C                some college      standard   \n",
       "2  female        group B             master's degree      standard   \n",
       "3    male        group A          associate's degree  free/reduced   \n",
       "4    male        group C                some college      standard   \n",
       "\n",
       "  test preparation course  math score  reading score  writing score  \\\n",
       "0                    none          72             72             74   \n",
       "1               completed          69             90             88   \n",
       "2                    none          90             95             93   \n",
       "3                    none          47             57             44   \n",
       "4                    none          76             78             75   \n",
       "\n",
       "   average score  \n",
       "0      72.666667  \n",
       "1      82.333333  \n",
       "2      92.666667  \n",
       "3      49.333333  \n",
       "4      76.333333  "
      ]
     },
     "execution_count": 17,
     "metadata": {},
     "output_type": "execute_result"
    }
   ],
   "source": [
    "df.head()"
   ]
  },
  {
   "cell_type": "markdown",
   "id": "e69de331",
   "metadata": {
    "papermill": {
     "duration": 0.017285,
     "end_time": "2024-10-07T20:32:46.288721",
     "exception": false,
     "start_time": "2024-10-07T20:32:46.271436",
     "status": "completed"
    },
    "tags": []
   },
   "source": [
    "# Add a new column indicating success status"
   ]
  },
  {
   "cell_type": "code",
   "execution_count": 18,
   "id": "5eb73c40",
   "metadata": {
    "execution": {
     "iopub.execute_input": "2024-10-07T20:32:46.326720Z",
     "iopub.status.busy": "2024-10-07T20:32:46.325753Z",
     "iopub.status.idle": "2024-10-07T20:32:46.333834Z",
     "shell.execute_reply": "2024-10-07T20:32:46.332355Z"
    },
    "papermill": {
     "duration": 0.030688,
     "end_time": "2024-10-07T20:32:46.336961",
     "exception": false,
     "start_time": "2024-10-07T20:32:46.306273",
     "status": "completed"
    },
    "tags": []
   },
   "outputs": [],
   "source": [
    "df['success status'] = df['average score'].apply(lambda x: 'unsuccessful' if x < 50 else 'successful')"
   ]
  },
  {
   "cell_type": "code",
   "execution_count": 19,
   "id": "3404104f",
   "metadata": {
    "execution": {
     "iopub.execute_input": "2024-10-07T20:32:46.376054Z",
     "iopub.status.busy": "2024-10-07T20:32:46.375613Z",
     "iopub.status.idle": "2024-10-07T20:32:46.383281Z",
     "shell.execute_reply": "2024-10-07T20:32:46.382205Z"
    },
    "papermill": {
     "duration": 0.030679,
     "end_time": "2024-10-07T20:32:46.385944",
     "exception": false,
     "start_time": "2024-10-07T20:32:46.355265",
     "status": "completed"
    },
    "tags": []
   },
   "outputs": [
    {
     "data": {
      "text/plain": [
       "Index(['gender', 'race/ethnicity', 'parental level of education', 'lunch',\n",
       "       'test preparation course', 'math score', 'reading score',\n",
       "       'writing score', 'average score', 'success status'],\n",
       "      dtype='object')"
      ]
     },
     "execution_count": 19,
     "metadata": {},
     "output_type": "execute_result"
    }
   ],
   "source": [
    "df.columns"
   ]
  },
  {
   "cell_type": "code",
   "execution_count": 20,
   "id": "db16492d",
   "metadata": {
    "execution": {
     "iopub.execute_input": "2024-10-07T20:32:46.424300Z",
     "iopub.status.busy": "2024-10-07T20:32:46.423845Z",
     "iopub.status.idle": "2024-10-07T20:32:46.442088Z",
     "shell.execute_reply": "2024-10-07T20:32:46.440439Z"
    },
    "papermill": {
     "duration": 0.040145,
     "end_time": "2024-10-07T20:32:46.444790",
     "exception": false,
     "start_time": "2024-10-07T20:32:46.404645",
     "status": "completed"
    },
    "tags": []
   },
   "outputs": [
    {
     "data": {
      "text/html": [
       "<div>\n",
       "<style scoped>\n",
       "    .dataframe tbody tr th:only-of-type {\n",
       "        vertical-align: middle;\n",
       "    }\n",
       "\n",
       "    .dataframe tbody tr th {\n",
       "        vertical-align: top;\n",
       "    }\n",
       "\n",
       "    .dataframe thead th {\n",
       "        text-align: right;\n",
       "    }\n",
       "</style>\n",
       "<table border=\"1\" class=\"dataframe\">\n",
       "  <thead>\n",
       "    <tr style=\"text-align: right;\">\n",
       "      <th></th>\n",
       "      <th>gender</th>\n",
       "      <th>race/ethnicity</th>\n",
       "      <th>parental level of education</th>\n",
       "      <th>lunch</th>\n",
       "      <th>test preparation course</th>\n",
       "      <th>math score</th>\n",
       "      <th>reading score</th>\n",
       "      <th>writing score</th>\n",
       "      <th>average score</th>\n",
       "      <th>success status</th>\n",
       "    </tr>\n",
       "  </thead>\n",
       "  <tbody>\n",
       "    <tr>\n",
       "      <th>0</th>\n",
       "      <td>female</td>\n",
       "      <td>group B</td>\n",
       "      <td>bachelor's degree</td>\n",
       "      <td>standard</td>\n",
       "      <td>none</td>\n",
       "      <td>72</td>\n",
       "      <td>72</td>\n",
       "      <td>74</td>\n",
       "      <td>72.666667</td>\n",
       "      <td>successful</td>\n",
       "    </tr>\n",
       "    <tr>\n",
       "      <th>1</th>\n",
       "      <td>female</td>\n",
       "      <td>group C</td>\n",
       "      <td>some college</td>\n",
       "      <td>standard</td>\n",
       "      <td>completed</td>\n",
       "      <td>69</td>\n",
       "      <td>90</td>\n",
       "      <td>88</td>\n",
       "      <td>82.333333</td>\n",
       "      <td>successful</td>\n",
       "    </tr>\n",
       "    <tr>\n",
       "      <th>2</th>\n",
       "      <td>female</td>\n",
       "      <td>group B</td>\n",
       "      <td>master's degree</td>\n",
       "      <td>standard</td>\n",
       "      <td>none</td>\n",
       "      <td>90</td>\n",
       "      <td>95</td>\n",
       "      <td>93</td>\n",
       "      <td>92.666667</td>\n",
       "      <td>successful</td>\n",
       "    </tr>\n",
       "    <tr>\n",
       "      <th>3</th>\n",
       "      <td>male</td>\n",
       "      <td>group A</td>\n",
       "      <td>associate's degree</td>\n",
       "      <td>free/reduced</td>\n",
       "      <td>none</td>\n",
       "      <td>47</td>\n",
       "      <td>57</td>\n",
       "      <td>44</td>\n",
       "      <td>49.333333</td>\n",
       "      <td>unsuccessful</td>\n",
       "    </tr>\n",
       "    <tr>\n",
       "      <th>4</th>\n",
       "      <td>male</td>\n",
       "      <td>group C</td>\n",
       "      <td>some college</td>\n",
       "      <td>standard</td>\n",
       "      <td>none</td>\n",
       "      <td>76</td>\n",
       "      <td>78</td>\n",
       "      <td>75</td>\n",
       "      <td>76.333333</td>\n",
       "      <td>successful</td>\n",
       "    </tr>\n",
       "  </tbody>\n",
       "</table>\n",
       "</div>"
      ],
      "text/plain": [
       "   gender race/ethnicity parental level of education         lunch  \\\n",
       "0  female        group B           bachelor's degree      standard   \n",
       "1  female        group C                some college      standard   \n",
       "2  female        group B             master's degree      standard   \n",
       "3    male        group A          associate's degree  free/reduced   \n",
       "4    male        group C                some college      standard   \n",
       "\n",
       "  test preparation course  math score  reading score  writing score  \\\n",
       "0                    none          72             72             74   \n",
       "1               completed          69             90             88   \n",
       "2                    none          90             95             93   \n",
       "3                    none          47             57             44   \n",
       "4                    none          76             78             75   \n",
       "\n",
       "   average score success status  \n",
       "0      72.666667     successful  \n",
       "1      82.333333     successful  \n",
       "2      92.666667     successful  \n",
       "3      49.333333   unsuccessful  \n",
       "4      76.333333     successful  "
      ]
     },
     "execution_count": 20,
     "metadata": {},
     "output_type": "execute_result"
    }
   ],
   "source": [
    "df.head()"
   ]
  },
  {
   "cell_type": "markdown",
   "id": "13bc07c6",
   "metadata": {
    "papermill": {
     "duration": 0.017686,
     "end_time": "2024-10-07T20:32:46.481360",
     "exception": false,
     "start_time": "2024-10-07T20:32:46.463674",
     "status": "completed"
    },
    "tags": []
   },
   "source": [
    "# Filter unsuccessful students"
   ]
  },
  {
   "cell_type": "code",
   "execution_count": 21,
   "id": "2696b4e8",
   "metadata": {
    "execution": {
     "iopub.execute_input": "2024-10-07T20:32:46.519135Z",
     "iopub.status.busy": "2024-10-07T20:32:46.518687Z",
     "iopub.status.idle": "2024-10-07T20:32:46.526019Z",
     "shell.execute_reply": "2024-10-07T20:32:46.524673Z"
    },
    "papermill": {
     "duration": 0.029282,
     "end_time": "2024-10-07T20:32:46.528755",
     "exception": false,
     "start_time": "2024-10-07T20:32:46.499473",
     "status": "completed"
    },
    "tags": []
   },
   "outputs": [],
   "source": [
    "failed_students = df[df['success status'] == 'unsuccessful']"
   ]
  },
  {
   "cell_type": "code",
   "execution_count": 22,
   "id": "ad5c5b30",
   "metadata": {
    "execution": {
     "iopub.execute_input": "2024-10-07T20:32:46.566715Z",
     "iopub.status.busy": "2024-10-07T20:32:46.566209Z",
     "iopub.status.idle": "2024-10-07T20:32:46.587772Z",
     "shell.execute_reply": "2024-10-07T20:32:46.586613Z"
    },
    "papermill": {
     "duration": 0.043834,
     "end_time": "2024-10-07T20:32:46.590748",
     "exception": false,
     "start_time": "2024-10-07T20:32:46.546914",
     "status": "completed"
    },
    "tags": []
   },
   "outputs": [
    {
     "data": {
      "text/html": [
       "<div>\n",
       "<style scoped>\n",
       "    .dataframe tbody tr th:only-of-type {\n",
       "        vertical-align: middle;\n",
       "    }\n",
       "\n",
       "    .dataframe tbody tr th {\n",
       "        vertical-align: top;\n",
       "    }\n",
       "\n",
       "    .dataframe thead th {\n",
       "        text-align: right;\n",
       "    }\n",
       "</style>\n",
       "<table border=\"1\" class=\"dataframe\">\n",
       "  <thead>\n",
       "    <tr style=\"text-align: right;\">\n",
       "      <th></th>\n",
       "      <th>gender</th>\n",
       "      <th>race/ethnicity</th>\n",
       "      <th>parental level of education</th>\n",
       "      <th>lunch</th>\n",
       "      <th>test preparation course</th>\n",
       "      <th>math score</th>\n",
       "      <th>reading score</th>\n",
       "      <th>writing score</th>\n",
       "      <th>average score</th>\n",
       "      <th>success status</th>\n",
       "    </tr>\n",
       "  </thead>\n",
       "  <tbody>\n",
       "    <tr>\n",
       "      <th>3</th>\n",
       "      <td>male</td>\n",
       "      <td>group A</td>\n",
       "      <td>associate's degree</td>\n",
       "      <td>free/reduced</td>\n",
       "      <td>none</td>\n",
       "      <td>47</td>\n",
       "      <td>57</td>\n",
       "      <td>44</td>\n",
       "      <td>49.333333</td>\n",
       "      <td>unsuccessful</td>\n",
       "    </tr>\n",
       "    <tr>\n",
       "      <th>7</th>\n",
       "      <td>male</td>\n",
       "      <td>group B</td>\n",
       "      <td>some college</td>\n",
       "      <td>free/reduced</td>\n",
       "      <td>none</td>\n",
       "      <td>40</td>\n",
       "      <td>43</td>\n",
       "      <td>39</td>\n",
       "      <td>40.666667</td>\n",
       "      <td>unsuccessful</td>\n",
       "    </tr>\n",
       "    <tr>\n",
       "      <th>9</th>\n",
       "      <td>female</td>\n",
       "      <td>group B</td>\n",
       "      <td>high school</td>\n",
       "      <td>free/reduced</td>\n",
       "      <td>none</td>\n",
       "      <td>38</td>\n",
       "      <td>60</td>\n",
       "      <td>50</td>\n",
       "      <td>49.333333</td>\n",
       "      <td>unsuccessful</td>\n",
       "    </tr>\n",
       "    <tr>\n",
       "      <th>11</th>\n",
       "      <td>male</td>\n",
       "      <td>group D</td>\n",
       "      <td>associate's degree</td>\n",
       "      <td>standard</td>\n",
       "      <td>none</td>\n",
       "      <td>40</td>\n",
       "      <td>52</td>\n",
       "      <td>43</td>\n",
       "      <td>45.000000</td>\n",
       "      <td>unsuccessful</td>\n",
       "    </tr>\n",
       "    <tr>\n",
       "      <th>17</th>\n",
       "      <td>female</td>\n",
       "      <td>group B</td>\n",
       "      <td>some high school</td>\n",
       "      <td>free/reduced</td>\n",
       "      <td>none</td>\n",
       "      <td>18</td>\n",
       "      <td>32</td>\n",
       "      <td>28</td>\n",
       "      <td>26.000000</td>\n",
       "      <td>unsuccessful</td>\n",
       "    </tr>\n",
       "    <tr>\n",
       "      <th>...</th>\n",
       "      <td>...</td>\n",
       "      <td>...</td>\n",
       "      <td>...</td>\n",
       "      <td>...</td>\n",
       "      <td>...</td>\n",
       "      <td>...</td>\n",
       "      <td>...</td>\n",
       "      <td>...</td>\n",
       "      <td>...</td>\n",
       "      <td>...</td>\n",
       "    </tr>\n",
       "    <tr>\n",
       "      <th>921</th>\n",
       "      <td>female</td>\n",
       "      <td>group C</td>\n",
       "      <td>high school</td>\n",
       "      <td>free/reduced</td>\n",
       "      <td>none</td>\n",
       "      <td>35</td>\n",
       "      <td>53</td>\n",
       "      <td>46</td>\n",
       "      <td>44.666667</td>\n",
       "      <td>unsuccessful</td>\n",
       "    </tr>\n",
       "    <tr>\n",
       "      <th>928</th>\n",
       "      <td>male</td>\n",
       "      <td>group E</td>\n",
       "      <td>associate's degree</td>\n",
       "      <td>free/reduced</td>\n",
       "      <td>completed</td>\n",
       "      <td>46</td>\n",
       "      <td>43</td>\n",
       "      <td>44</td>\n",
       "      <td>44.333333</td>\n",
       "      <td>unsuccessful</td>\n",
       "    </tr>\n",
       "    <tr>\n",
       "      <th>978</th>\n",
       "      <td>male</td>\n",
       "      <td>group D</td>\n",
       "      <td>high school</td>\n",
       "      <td>standard</td>\n",
       "      <td>completed</td>\n",
       "      <td>55</td>\n",
       "      <td>41</td>\n",
       "      <td>48</td>\n",
       "      <td>48.000000</td>\n",
       "      <td>unsuccessful</td>\n",
       "    </tr>\n",
       "    <tr>\n",
       "      <th>980</th>\n",
       "      <td>female</td>\n",
       "      <td>group B</td>\n",
       "      <td>high school</td>\n",
       "      <td>free/reduced</td>\n",
       "      <td>none</td>\n",
       "      <td>8</td>\n",
       "      <td>24</td>\n",
       "      <td>23</td>\n",
       "      <td>18.333333</td>\n",
       "      <td>unsuccessful</td>\n",
       "    </tr>\n",
       "    <tr>\n",
       "      <th>988</th>\n",
       "      <td>female</td>\n",
       "      <td>group A</td>\n",
       "      <td>some high school</td>\n",
       "      <td>free/reduced</td>\n",
       "      <td>none</td>\n",
       "      <td>44</td>\n",
       "      <td>45</td>\n",
       "      <td>45</td>\n",
       "      <td>44.666667</td>\n",
       "      <td>unsuccessful</td>\n",
       "    </tr>\n",
       "  </tbody>\n",
       "</table>\n",
       "<p>103 rows × 10 columns</p>\n",
       "</div>"
      ],
      "text/plain": [
       "     gender race/ethnicity parental level of education         lunch  \\\n",
       "3      male        group A          associate's degree  free/reduced   \n",
       "7      male        group B                some college  free/reduced   \n",
       "9    female        group B                 high school  free/reduced   \n",
       "11     male        group D          associate's degree      standard   \n",
       "17   female        group B            some high school  free/reduced   \n",
       "..      ...            ...                         ...           ...   \n",
       "921  female        group C                 high school  free/reduced   \n",
       "928    male        group E          associate's degree  free/reduced   \n",
       "978    male        group D                 high school      standard   \n",
       "980  female        group B                 high school  free/reduced   \n",
       "988  female        group A            some high school  free/reduced   \n",
       "\n",
       "    test preparation course  math score  reading score  writing score  \\\n",
       "3                      none          47             57             44   \n",
       "7                      none          40             43             39   \n",
       "9                      none          38             60             50   \n",
       "11                     none          40             52             43   \n",
       "17                     none          18             32             28   \n",
       "..                      ...         ...            ...            ...   \n",
       "921                    none          35             53             46   \n",
       "928               completed          46             43             44   \n",
       "978               completed          55             41             48   \n",
       "980                    none           8             24             23   \n",
       "988                    none          44             45             45   \n",
       "\n",
       "     average score success status  \n",
       "3        49.333333   unsuccessful  \n",
       "7        40.666667   unsuccessful  \n",
       "9        49.333333   unsuccessful  \n",
       "11       45.000000   unsuccessful  \n",
       "17       26.000000   unsuccessful  \n",
       "..             ...            ...  \n",
       "921      44.666667   unsuccessful  \n",
       "928      44.333333   unsuccessful  \n",
       "978      48.000000   unsuccessful  \n",
       "980      18.333333   unsuccessful  \n",
       "988      44.666667   unsuccessful  \n",
       "\n",
       "[103 rows x 10 columns]"
      ]
     },
     "execution_count": 22,
     "metadata": {},
     "output_type": "execute_result"
    }
   ],
   "source": [
    "failed_students"
   ]
  },
  {
   "cell_type": "markdown",
   "id": "7a3ec236",
   "metadata": {
    "papermill": {
     "duration": 0.018517,
     "end_time": "2024-10-07T20:32:46.628843",
     "exception": false,
     "start_time": "2024-10-07T20:32:46.610326",
     "status": "completed"
    },
    "tags": []
   },
   "source": [
    "# Convert categorical columns to numerical values"
   ]
  },
  {
   "cell_type": "code",
   "execution_count": 23,
   "id": "1f142112",
   "metadata": {
    "execution": {
     "iopub.execute_input": "2024-10-07T20:32:46.677007Z",
     "iopub.status.busy": "2024-10-07T20:32:46.676095Z",
     "iopub.status.idle": "2024-10-07T20:32:46.707189Z",
     "shell.execute_reply": "2024-10-07T20:32:46.705965Z"
    },
    "papermill": {
     "duration": 0.06109,
     "end_time": "2024-10-07T20:32:46.710335",
     "exception": false,
     "start_time": "2024-10-07T20:32:46.649245",
     "status": "completed"
    },
    "tags": []
   },
   "outputs": [
    {
     "data": {
      "text/html": [
       "<div>\n",
       "<style scoped>\n",
       "    .dataframe tbody tr th:only-of-type {\n",
       "        vertical-align: middle;\n",
       "    }\n",
       "\n",
       "    .dataframe tbody tr th {\n",
       "        vertical-align: top;\n",
       "    }\n",
       "\n",
       "    .dataframe thead th {\n",
       "        text-align: right;\n",
       "    }\n",
       "</style>\n",
       "<table border=\"1\" class=\"dataframe\">\n",
       "  <thead>\n",
       "    <tr style=\"text-align: right;\">\n",
       "      <th></th>\n",
       "      <th>gender</th>\n",
       "      <th>race/ethnicity</th>\n",
       "      <th>parental level of education</th>\n",
       "      <th>lunch</th>\n",
       "      <th>test preparation course</th>\n",
       "      <th>math score</th>\n",
       "      <th>reading score</th>\n",
       "      <th>writing score</th>\n",
       "      <th>average score</th>\n",
       "      <th>success status</th>\n",
       "    </tr>\n",
       "  </thead>\n",
       "  <tbody>\n",
       "    <tr>\n",
       "      <th>0</th>\n",
       "      <td>0</td>\n",
       "      <td>1</td>\n",
       "      <td>1</td>\n",
       "      <td>1</td>\n",
       "      <td>1</td>\n",
       "      <td>72</td>\n",
       "      <td>72</td>\n",
       "      <td>74</td>\n",
       "      <td>72.666667</td>\n",
       "      <td>0</td>\n",
       "    </tr>\n",
       "    <tr>\n",
       "      <th>1</th>\n",
       "      <td>0</td>\n",
       "      <td>2</td>\n",
       "      <td>4</td>\n",
       "      <td>1</td>\n",
       "      <td>0</td>\n",
       "      <td>69</td>\n",
       "      <td>90</td>\n",
       "      <td>88</td>\n",
       "      <td>82.333333</td>\n",
       "      <td>0</td>\n",
       "    </tr>\n",
       "    <tr>\n",
       "      <th>2</th>\n",
       "      <td>0</td>\n",
       "      <td>1</td>\n",
       "      <td>3</td>\n",
       "      <td>1</td>\n",
       "      <td>1</td>\n",
       "      <td>90</td>\n",
       "      <td>95</td>\n",
       "      <td>93</td>\n",
       "      <td>92.666667</td>\n",
       "      <td>0</td>\n",
       "    </tr>\n",
       "    <tr>\n",
       "      <th>3</th>\n",
       "      <td>1</td>\n",
       "      <td>0</td>\n",
       "      <td>0</td>\n",
       "      <td>0</td>\n",
       "      <td>1</td>\n",
       "      <td>47</td>\n",
       "      <td>57</td>\n",
       "      <td>44</td>\n",
       "      <td>49.333333</td>\n",
       "      <td>1</td>\n",
       "    </tr>\n",
       "    <tr>\n",
       "      <th>4</th>\n",
       "      <td>1</td>\n",
       "      <td>2</td>\n",
       "      <td>4</td>\n",
       "      <td>1</td>\n",
       "      <td>1</td>\n",
       "      <td>76</td>\n",
       "      <td>78</td>\n",
       "      <td>75</td>\n",
       "      <td>76.333333</td>\n",
       "      <td>0</td>\n",
       "    </tr>\n",
       "  </tbody>\n",
       "</table>\n",
       "</div>"
      ],
      "text/plain": [
       "   gender  race/ethnicity  parental level of education  lunch  \\\n",
       "0       0               1                            1      1   \n",
       "1       0               2                            4      1   \n",
       "2       0               1                            3      1   \n",
       "3       1               0                            0      0   \n",
       "4       1               2                            4      1   \n",
       "\n",
       "   test preparation course  math score  reading score  writing score  \\\n",
       "0                        1          72             72             74   \n",
       "1                        0          69             90             88   \n",
       "2                        1          90             95             93   \n",
       "3                        1          47             57             44   \n",
       "4                        1          76             78             75   \n",
       "\n",
       "   average score  success status  \n",
       "0      72.666667               0  \n",
       "1      82.333333               0  \n",
       "2      92.666667               0  \n",
       "3      49.333333               1  \n",
       "4      76.333333               0  "
      ]
     },
     "execution_count": 23,
     "metadata": {},
     "output_type": "execute_result"
    }
   ],
   "source": [
    "encoder = LabelEncoder()\n",
    "df_encoded = df.copy()\n",
    "\n",
    "categorical_columns = ['gender', 'race/ethnicity', 'parental level of education', 'lunch', 'test preparation course','success status']\n",
    "for column in categorical_columns:\n",
    "    df_encoded[column] = encoder.fit_transform(df_encoded[column])\n",
    "df_encoded.head()"
   ]
  },
  {
   "cell_type": "markdown",
   "id": "d8809c05",
   "metadata": {
    "papermill": {
     "duration": 0.020926,
     "end_time": "2024-10-07T20:32:46.759712",
     "exception": false,
     "start_time": "2024-10-07T20:32:46.738786",
     "status": "completed"
    },
    "tags": []
   },
   "source": [
    "# Heatmap"
   ]
  },
  {
   "cell_type": "code",
   "execution_count": 24,
   "id": "0179bb9d",
   "metadata": {
    "execution": {
     "iopub.execute_input": "2024-10-07T20:32:46.800405Z",
     "iopub.status.busy": "2024-10-07T20:32:46.799415Z",
     "iopub.status.idle": "2024-10-07T20:32:47.547169Z",
     "shell.execute_reply": "2024-10-07T20:32:47.545817Z"
    },
    "papermill": {
     "duration": 0.773339,
     "end_time": "2024-10-07T20:32:47.552279",
     "exception": false,
     "start_time": "2024-10-07T20:32:46.778940",
     "status": "completed"
    },
    "tags": []
   },
   "outputs": [
    {
     "data": {
      "image/png": "[encoded data removed]",
      "text/plain": [
       "<Figure size 1000x800 with 2 Axes>"
      ]
     },
     "metadata": {},
     "output_type": "display_data"
    }
   ],
   "source": [
    "# Filter data for unsuccessful students\n",
    "failed_students_encoded = df_encoded[df_encoded['success status'] == 1]\n",
    "\n",
    "# Calculate the correlation matrix\n",
    "correlation_matrix = failed_students_encoded.corr()\n",
    "\n",
    "# Create a heatmap for the correlation matrix\n",
    "plt.figure(figsize=(10, 8))\n",
    "sns.heatmap(correlation_matrix, annot=True, cmap='coolwarm', linewidths=0.5)\n",
    "plt.title('Correlation Heatmap of Unsuccessful Students (Encoded)')\n",
    "plt.show()"
   ]
  },
  {
   "cell_type": "markdown",
   "id": "9870828f",
   "metadata": {
    "papermill": {
     "duration": 0.020606,
     "end_time": "2024-10-07T20:32:47.597357",
     "exception": false,
     "start_time": "2024-10-07T20:32:47.576751",
     "status": "completed"
    },
    "tags": []
   },
   "source": [
    "# Calculate and visualize failure rates for each categorical column"
   ]
  },
  {
   "cell_type": "code",
   "execution_count": 25,
   "id": "532baa93",
   "metadata": {
    "execution": {
     "iopub.execute_input": "2024-10-07T20:32:47.641458Z",
     "iopub.status.busy": "2024-10-07T20:32:47.640912Z",
     "iopub.status.idle": "2024-10-07T20:32:48.579982Z",
     "shell.execute_reply": "2024-10-07T20:32:48.578620Z"
    },
    "papermill": {
     "duration": 0.964537,
     "end_time": "2024-10-07T20:32:48.582822",
     "exception": false,
     "start_time": "2024-10-07T20:32:47.618285",
     "status": "completed"
    },
    "tags": []
   },
   "outputs": [
    {
     "data": {
      "image/png": "[encoded data removed]",
      "text/plain": [
       "<Figure size 800x600 with 1 Axes>"
      ]
     },
     "metadata": {},
     "output_type": "display_data"
    },
    {
     "data": {
      "image/png": "[encoded data removed]",
      "text/plain": [
       "<Figure size 800x600 with 1 Axes>"
      ]
     },
     "metadata": {},
     "output_type": "display_data"
    },
    {
     "data": {
      "image/png": "[encoded data removed]",
      "text/plain": [
       "<Figure size 800x600 with 1 Axes>"
      ]
     },
     "metadata": {},
     "output_type": "display_data"
    }
   ],
   "source": [
    "for column in categorical_columns[:3]:  \n",
    "    categories = df[column].unique()\n",
    "    \n",
    "    # Calculate failure rates for each category\n",
    "    failure_rates = []\n",
    "    for category in categories:\n",
    "        total_students = len(df[df[column] == category])\n",
    "        failed_students_count = len(failed_students[failed_students[column] == category])\n",
    "        failure_rate = failed_students_count / total_students * 100\n",
    "        failure_rates.append(failure_rate)\n",
    "    \n",
    "    # Create a DataFrame for failure data\n",
    "    failure_data = pd.DataFrame({\n",
    "        column: categories,\n",
    "        'Failure Rate (%)': failure_rates\n",
    "    })\n",
    "    \n",
    "    # Visualize with a bar plot\n",
    "    plt.figure(figsize=(8, 6))\n",
    "    sns.barplot(x=column, y='Failure Rate (%)', data=failure_data, palette='viridis')\n",
    "    plt.title(f'Failure Rate by {column.capitalize()}')\n",
    "    plt.xlabel(column.capitalize())\n",
    "    plt.ylabel('Failure Rate (%)')\n",
    "    plt.xticks(rotation=45)\n",
    "    plt.show()"
   ]
  },
  {
   "cell_type": "markdown",
   "id": "5c53c08f",
   "metadata": {
    "papermill": {
     "duration": 0.023079,
     "end_time": "2024-10-07T20:32:48.629087",
     "exception": false,
     "start_time": "2024-10-07T20:32:48.606008",
     "status": "completed"
    },
    "tags": []
   },
   "source": [
    "> I am new to the field of data science; your constructive comments will be helpful for me. Thank you✨"
   ]
  }
 ],
 "metadata": {
  "kaggle": {
   "accelerator": "none",
   "dataSources": [
    {
     "datasetId": 74977,
     "sourceId": 169835,
     "sourceType": "datasetVersion"
    }
   ],
   "dockerImageVersionId": 30786,
   "isGpuEnabled": false,
   "isInternetEnabled": true,
   "language": "python",
   "sourceType": "notebook"
  },
  "kernelspec": {
   "display_name": "Python 3",
   "language": "python",
   "name": "python3"
  },
  "language_info": {
   "codemirror_mode": {
    "name": "ipython",
    "version": 3
   },
   "file_extension": ".py",
   "mimetype": "text/x-python",
   "name": "python",
   "nbconvert_exporter": "python",
   "pygments_lexer": "ipython3",
   "version": "3.10.14"
  },
  "papermill": {
   "default_parameters": {},
   "duration": 12.097681,
   "end_time": "2024-10-07T20:32:49.376058",
   "environment_variables": {},
   "exception": null,
   "input_path": "__notebook__.ipynb",
   "output_path": "__notebook__.ipynb",
   "parameters": {},
   "start_time": "2024-10-07T20:32:37.278377",
   "version": "2.6.0"
  }
 },
 "nbformat": 4,
 "nbformat_minor": 5
}
